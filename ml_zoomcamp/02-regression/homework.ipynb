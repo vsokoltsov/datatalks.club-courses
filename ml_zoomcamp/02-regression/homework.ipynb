{
 "cells": [
  {
   "cell_type": "markdown",
   "id": "6ec8d214",
   "metadata": {},
   "source": [
    "# Homework - Regression"
   ]
  },
  {
   "cell_type": "markdown",
   "id": "40431e9b",
   "metadata": {},
   "source": [
    "### Preparing the dataset \n",
    "\n",
    "Use only the following columns:\n",
    "\n",
    "* `'engine_displacement'`,\n",
    "* `'horsepower'`,\n",
    "* `'vehicle_weight'`,\n",
    "* `'model_year'`,\n",
    "* `'fuel_efficiency_mpg'`"
   ]
  },
  {
   "cell_type": "code",
   "execution_count": 138,
   "id": "69109cfd",
   "metadata": {},
   "outputs": [],
   "source": [
    "import pandas as pd\n",
    "import numpy as np\n",
    "from sklearn.model_selection import train_test_split\n",
    "import seaborn as sns\n",
    "from matplotlib import pyplot as plt\n",
    "\n",
    "RANDOM_STATE = 42"
   ]
  },
  {
   "cell_type": "code",
   "execution_count": 139,
   "id": "dbe4d181",
   "metadata": {},
   "outputs": [],
   "source": [
    "default_df = pd.read_csv(\"./car_fuel_efficiency.csv\")"
   ]
  },
  {
   "cell_type": "code",
   "execution_count": 140,
   "id": "0222e290",
   "metadata": {},
   "outputs": [],
   "source": [
    "base = ['engine_displacement', 'horsepower', 'vehicle_weight', 'model_year', 'fuel_efficiency_mpg']\n",
    "base_train = ['engine_displacement', 'horsepower', 'vehicle_weight']\n",
    "df = default_df.loc[:, base]"
   ]
  },
  {
   "cell_type": "code",
   "execution_count": 141,
   "id": "d306a102",
   "metadata": {},
   "outputs": [
    {
     "data": {
      "text/html": [
       "<div>\n",
       "<style scoped>\n",
       "    .dataframe tbody tr th:only-of-type {\n",
       "        vertical-align: middle;\n",
       "    }\n",
       "\n",
       "    .dataframe tbody tr th {\n",
       "        vertical-align: top;\n",
       "    }\n",
       "\n",
       "    .dataframe thead th {\n",
       "        text-align: right;\n",
       "    }\n",
       "</style>\n",
       "<table border=\"1\" class=\"dataframe\">\n",
       "  <thead>\n",
       "    <tr style=\"text-align: right;\">\n",
       "      <th></th>\n",
       "      <th>engine_displacement</th>\n",
       "      <th>horsepower</th>\n",
       "      <th>vehicle_weight</th>\n",
       "      <th>model_year</th>\n",
       "      <th>fuel_efficiency_mpg</th>\n",
       "    </tr>\n",
       "  </thead>\n",
       "  <tbody>\n",
       "    <tr>\n",
       "      <th>0</th>\n",
       "      <td>170</td>\n",
       "      <td>159.0</td>\n",
       "      <td>3413.433759</td>\n",
       "      <td>2003</td>\n",
       "      <td>13.231729</td>\n",
       "    </tr>\n",
       "    <tr>\n",
       "      <th>1</th>\n",
       "      <td>130</td>\n",
       "      <td>97.0</td>\n",
       "      <td>3149.664934</td>\n",
       "      <td>2007</td>\n",
       "      <td>13.688217</td>\n",
       "    </tr>\n",
       "    <tr>\n",
       "      <th>2</th>\n",
       "      <td>170</td>\n",
       "      <td>78.0</td>\n",
       "      <td>3079.038997</td>\n",
       "      <td>2018</td>\n",
       "      <td>14.246341</td>\n",
       "    </tr>\n",
       "    <tr>\n",
       "      <th>3</th>\n",
       "      <td>220</td>\n",
       "      <td>NaN</td>\n",
       "      <td>2542.392402</td>\n",
       "      <td>2009</td>\n",
       "      <td>16.912736</td>\n",
       "    </tr>\n",
       "    <tr>\n",
       "      <th>4</th>\n",
       "      <td>210</td>\n",
       "      <td>140.0</td>\n",
       "      <td>3460.870990</td>\n",
       "      <td>2009</td>\n",
       "      <td>12.488369</td>\n",
       "    </tr>\n",
       "    <tr>\n",
       "      <th>...</th>\n",
       "      <td>...</td>\n",
       "      <td>...</td>\n",
       "      <td>...</td>\n",
       "      <td>...</td>\n",
       "      <td>...</td>\n",
       "    </tr>\n",
       "    <tr>\n",
       "      <th>9699</th>\n",
       "      <td>140</td>\n",
       "      <td>164.0</td>\n",
       "      <td>2981.107371</td>\n",
       "      <td>2013</td>\n",
       "      <td>15.101802</td>\n",
       "    </tr>\n",
       "    <tr>\n",
       "      <th>9700</th>\n",
       "      <td>180</td>\n",
       "      <td>154.0</td>\n",
       "      <td>2439.525729</td>\n",
       "      <td>2004</td>\n",
       "      <td>17.962326</td>\n",
       "    </tr>\n",
       "    <tr>\n",
       "      <th>9701</th>\n",
       "      <td>220</td>\n",
       "      <td>138.0</td>\n",
       "      <td>2583.471318</td>\n",
       "      <td>2008</td>\n",
       "      <td>17.186587</td>\n",
       "    </tr>\n",
       "    <tr>\n",
       "      <th>9702</th>\n",
       "      <td>230</td>\n",
       "      <td>177.0</td>\n",
       "      <td>2905.527390</td>\n",
       "      <td>2011</td>\n",
       "      <td>15.331551</td>\n",
       "    </tr>\n",
       "    <tr>\n",
       "      <th>9703</th>\n",
       "      <td>270</td>\n",
       "      <td>140.0</td>\n",
       "      <td>2908.043477</td>\n",
       "      <td>2005</td>\n",
       "      <td>14.884467</td>\n",
       "    </tr>\n",
       "  </tbody>\n",
       "</table>\n",
       "<p>9704 rows × 5 columns</p>\n",
       "</div>"
      ],
      "text/plain": [
       "      engine_displacement  horsepower  vehicle_weight  model_year  \\\n",
       "0                     170       159.0     3413.433759        2003   \n",
       "1                     130        97.0     3149.664934        2007   \n",
       "2                     170        78.0     3079.038997        2018   \n",
       "3                     220         NaN     2542.392402        2009   \n",
       "4                     210       140.0     3460.870990        2009   \n",
       "...                   ...         ...             ...         ...   \n",
       "9699                  140       164.0     2981.107371        2013   \n",
       "9700                  180       154.0     2439.525729        2004   \n",
       "9701                  220       138.0     2583.471318        2008   \n",
       "9702                  230       177.0     2905.527390        2011   \n",
       "9703                  270       140.0     2908.043477        2005   \n",
       "\n",
       "      fuel_efficiency_mpg  \n",
       "0               13.231729  \n",
       "1               13.688217  \n",
       "2               14.246341  \n",
       "3               16.912736  \n",
       "4               12.488369  \n",
       "...                   ...  \n",
       "9699            15.101802  \n",
       "9700            17.962326  \n",
       "9701            17.186587  \n",
       "9702            15.331551  \n",
       "9703            14.884467  \n",
       "\n",
       "[9704 rows x 5 columns]"
      ]
     },
     "execution_count": 141,
     "metadata": {},
     "output_type": "execute_result"
    }
   ],
   "source": [
    "df"
   ]
  },
  {
   "cell_type": "markdown",
   "id": "796ff0f5",
   "metadata": {},
   "source": [
    "## EDA\n",
    "\n",
    "* Look at the `fuel_efficiency_mpg` variable. Does it have a long tail? "
   ]
  },
  {
   "cell_type": "code",
   "execution_count": 142,
   "id": "e5d7de19",
   "metadata": {},
   "outputs": [
    {
     "data": {
      "text/plain": [
       "<Axes: xlabel='fuel_efficiency_mpg', ylabel='Count'>"
      ]
     },
     "execution_count": 142,
     "metadata": {},
     "output_type": "execute_result"
    },
    {
     "data": {
      "image/png": "[encoded data removed]",
      "text/plain": [
       "<Figure size 640x480 with 1 Axes>"
      ]
     },
     "metadata": {},
     "output_type": "display_data"
    }
   ],
   "source": [
    "sns.histplot(data=df, x=\"fuel_efficiency_mpg\")"
   ]
  },
  {
   "cell_type": "markdown",
   "id": "72d7c25d",
   "metadata": {},
   "source": [
    "## Question 1\n",
    "\n",
    "There's one column with missing values. What is it?\n",
    "\n",
    "* `'engine_displacement'`\n",
    "* `'horsepower'`\n",
    "* `'vehicle_weight'`\n",
    "* `'model_year'`\n",
    "\n",
    "### Answer\n",
    "\n",
    "* `horsepower`"
   ]
  },
  {
   "cell_type": "code",
   "execution_count": 143,
   "id": "f1298bd2",
   "metadata": {},
   "outputs": [
    {
     "data": {
      "text/plain": [
       "Index(['horsepower'], dtype='object')"
      ]
     },
     "execution_count": 143,
     "metadata": {},
     "output_type": "execute_result"
    }
   ],
   "source": [
    "df.columns[df.isna().any()]"
   ]
  },
  {
   "cell_type": "markdown",
   "id": "ace48fcb",
   "metadata": {},
   "source": [
    "## Question 2\n",
    "\n",
    "What's the median (50% percentile) for variable `'horsepower'`?\n",
    "\n",
    "- 49\n",
    "- 99\n",
    "- 149\n",
    "- 199\n",
    "\n",
    "### Answer\n",
    "\n",
    "* 149"
   ]
  },
  {
   "cell_type": "code",
   "execution_count": 158,
   "id": "f38c49b3",
   "metadata": {},
   "outputs": [
    {
     "data": {
      "text/plain": [
       "np.float64(149.3661111111111)"
      ]
     },
     "execution_count": 158,
     "metadata": {},
     "output_type": "execute_result"
    }
   ],
   "source": [
    "df['horsepower'].quantile(q=0.5)\n",
    "df['horsepower'].median()"
   ]
  },
  {
   "cell_type": "markdown",
   "id": "5e7247a5",
   "metadata": {},
   "source": [
    "### Prepare and split the dataset\n",
    "\n",
    "* Shuffle the dataset (the filtered one you created above), use seed `42`.\n",
    "* Split your data in train/val/test sets, with 60%/20%/20% distribution.\n"
   ]
  },
  {
   "cell_type": "code",
   "execution_count": 145,
   "id": "44ea69fd",
   "metadata": {},
   "outputs": [],
   "source": [
    "n = len(df)\n",
    "\n",
    "n_val = int(n * 0.2)\n",
    "n_test = int(n * 0.2)\n",
    "n_train = n - n_val - n_test\n",
    "idx = np.arange(n)\n",
    "np.random.seed(RANDOM_STATE)\n",
    "np.random.shuffle(idx)\n",
    "\n",
    "X_train_seed = df.iloc[idx[:n_train]]\n",
    "X_val_seed = df.iloc[idx[n_train:n_train+n_val]]\n",
    "X_test_seed = df.iloc[idx[n_train+n_val:]]\n",
    "\n",
    "X_train_seed = X_train_seed.reset_index(drop=True)\n",
    "X_val_seed = X_val_seed.reset_index(drop=True)\n",
    "X_test_seed = X_test_seed.reset_index(drop=True)\n",
    "\n",
    "# X_train_seed['vehicle_weight'] = X_train_seed['vehicle_weight']\n",
    "# X_val_seed['vehicle_weight'] = X_val_seed['vehicle_weight']\n",
    "# X_test_seed['vehicle_weight'] = X_test_seed['vehicle_weight']\n",
    "\n",
    "y_train_seed = X_train_seed['fuel_efficiency_mpg'].values\n",
    "y_val_seed = X_val_seed['fuel_efficiency_mpg'].values\n",
    "y_test_seed = X_test_seed['fuel_efficiency_mpg'].values\n",
    "\n",
    "del X_train_seed['fuel_efficiency_mpg']\n",
    "del X_val_seed['fuel_efficiency_mpg']\n",
    "del X_test_seed['fuel_efficiency_mpg']"
   ]
  },
  {
   "cell_type": "markdown",
   "id": "37f451dc",
   "metadata": {},
   "source": [
    "## Question 3\n",
    "\n",
    "* We need to deal with missing values for the column from Q1.\n",
    "* We have two options: fill it with 0 or with the mean of this variable.\n",
    "* Try both options. For each, train a linear regression model without regularization using the code from the lessons.\n",
    "* For computing the mean, use the training only!\n",
    "* Use the validation dataset to evaluate the models and compare the RMSE of each option.\n",
    "* Round the RMSE scores to 2 decimal digits using `round(score, 2)`\n",
    "* Which option gives better RMSE?\n",
    "\n",
    "Options:\n",
    "\n",
    "- With 0\n",
    "- [x] With mean\n",
    "- Both are equally good"
   ]
  },
  {
   "cell_type": "code",
   "execution_count": 146,
   "id": "1cf0e592",
   "metadata": {},
   "outputs": [],
   "source": [
    "def train_linear_regression(X, y):\n",
    "    ones = np.ones(X.shape[0])\n",
    "    X = np.column_stack([ones, X])\n",
    "\n",
    "    XTX = X.T.dot(X)\n",
    "    XTX_inv = np.linalg.pinv(XTX)\n",
    "    w_full = XTX_inv.dot(X.T).dot(y)\n",
    "    \n",
    "    return w_full[0], w_full[1:]\n",
    "\n",
    "def train_linear_regression_reg(X, y, r=0.001):\n",
    "    ones = np.ones(X.shape[0])\n",
    "    X = np.column_stack([ones, X])\n",
    "\n",
    "    XTX = X.T.dot(X)\n",
    "    XTX = XTX + r * np.eye(XTX.shape[0])\n",
    "\n",
    "    XTX_inv = np.linalg.inv(XTX)\n",
    "    w_full = XTX_inv.dot(X.T).dot(y)\n",
    "    \n",
    "    return w_full[0], w_full[1:]\n",
    "\n",
    "def prepare_X(df):\n",
    "    df = df.copy()\n",
    "    \n",
    "    df[\"age\"] = 2023 - (1900 + df['model_year'])\n",
    "    features = [\"engine_displacement\", \"horsepower\", \"vehicle_weight\", \"age\"]\n",
    "\n",
    "    # for v in [2, 3, 4]:\n",
    "    #     df['num_doors_%d' % v] = (df.number_of_doors == v).astype(int)\n",
    "    #     features.append('num_doors_%d' % v)\n",
    "\n",
    "    # for name, values in categorical.items():\n",
    "    #     for value in values:\n",
    "    #         df['%s_%s' % (name, value)] = (df[name] == value).astype(int)\n",
    "    #         features.append('%s_%s' % (name, value))\n",
    "\n",
    "    df_num = df[features]\n",
    "    df_num = df_num.fillna(0)\n",
    "    X = df_num.values\n",
    "\n",
    "    return X\n",
    "\n",
    "def rmse(y, y_pred):\n",
    "    se = (y - y_pred) ** 2\n",
    "    mse = se.mean()\n",
    "    return np.sqrt(mse)"
   ]
  },
  {
   "cell_type": "markdown",
   "id": "a1f7344d",
   "metadata": {},
   "source": [
    "### Fill NaN with 0"
   ]
  },
  {
   "cell_type": "code",
   "execution_count": 162,
   "id": "97510200",
   "metadata": {},
   "outputs": [],
   "source": [
    "df_train = X_train.copy()\n",
    "df_val = X_val.copy()"
   ]
  },
  {
   "cell_type": "code",
   "execution_count": 163,
   "id": "f7630ff4",
   "metadata": {},
   "outputs": [],
   "source": [
    "for df in df_train, df_val:\n",
    "    df['horsepower'] = df['horsepower'].fillna(0.0)"
   ]
  },
  {
   "cell_type": "code",
   "execution_count": 164,
   "id": "aa2c1beb",
   "metadata": {},
   "outputs": [
    {
     "data": {
      "text/plain": [
       "np.float64(0.5172919362453312)"
      ]
     },
     "execution_count": 164,
     "metadata": {},
     "output_type": "execute_result"
    }
   ],
   "source": [
    "df_train = prepare_X(df_train)\n",
    "w0, w = train_linear_regression(df_train, y_train)\n",
    "\n",
    "df_val = prepare_X(df_val)\n",
    "y_pred = w0 + df_val.dot(w)\n",
    "rmse(y_val, y_pred)"
   ]
  },
  {
   "cell_type": "markdown",
   "id": "76630105",
   "metadata": {},
   "source": [
    "### Fill with mean"
   ]
  },
  {
   "cell_type": "code",
   "execution_count": 166,
   "id": "5ed23338",
   "metadata": {},
   "outputs": [],
   "source": [
    "df_train = X_train.copy()\n",
    "df_val = X_val.copy()"
   ]
  },
  {
   "cell_type": "code",
   "execution_count": 167,
   "id": "ee9f395c",
   "metadata": {},
   "outputs": [],
   "source": [
    "# for df in df_train, df_val:\n",
    "df_train['horsepower'] = df_train['horsepower'].fillna(df_train['horsepower'].mean())\n",
    "df_val['horsepower'] = df_val['horsepower'].fillna(df_train['horsepower'].mean())"
   ]
  },
  {
   "cell_type": "code",
   "execution_count": 168,
   "id": "7840f5ad",
   "metadata": {},
   "outputs": [
    {
     "data": {
      "text/plain": [
       "np.float64(0.4603579101238702)"
      ]
     },
     "execution_count": 168,
     "metadata": {},
     "output_type": "execute_result"
    }
   ],
   "source": [
    "df_train = prepare_X(df_train)\n",
    "w0, w = train_linear_regression(df_train, y_train)\n",
    "\n",
    "df_val = prepare_X(df_val)\n",
    "y_pred = w0 + df_val.dot(w)\n",
    "rmse(y_val, y_pred)"
   ]
  },
  {
   "cell_type": "code",
   "execution_count": 169,
   "id": "0a2bb7d9",
   "metadata": {},
   "outputs": [
    {
     "data": {
      "text/html": [
       "<div>\n",
       "<style scoped>\n",
       "    .dataframe tbody tr th:only-of-type {\n",
       "        vertical-align: middle;\n",
       "    }\n",
       "\n",
       "    .dataframe tbody tr th {\n",
       "        vertical-align: top;\n",
       "    }\n",
       "\n",
       "    .dataframe thead th {\n",
       "        text-align: right;\n",
       "    }\n",
       "</style>\n",
       "<table border=\"1\" class=\"dataframe\">\n",
       "  <thead>\n",
       "    <tr style=\"text-align: right;\">\n",
       "      <th></th>\n",
       "      <th>engine_displacement</th>\n",
       "      <th>horsepower</th>\n",
       "      <th>vehicle_weight</th>\n",
       "      <th>model_year</th>\n",
       "    </tr>\n",
       "  </thead>\n",
       "  <tbody>\n",
       "    <tr>\n",
       "      <th>2155</th>\n",
       "      <td>240</td>\n",
       "      <td>137.0</td>\n",
       "      <td>2471.172629</td>\n",
       "      <td>2010</td>\n",
       "    </tr>\n",
       "    <tr>\n",
       "      <th>8916</th>\n",
       "      <td>240</td>\n",
       "      <td>127.0</td>\n",
       "      <td>4044.606636</td>\n",
       "      <td>2000</td>\n",
       "    </tr>\n",
       "    <tr>\n",
       "      <th>3274</th>\n",
       "      <td>280</td>\n",
       "      <td>NaN</td>\n",
       "      <td>3039.297482</td>\n",
       "      <td>2011</td>\n",
       "    </tr>\n",
       "    <tr>\n",
       "      <th>6307</th>\n",
       "      <td>210</td>\n",
       "      <td>202.0</td>\n",
       "      <td>3518.701952</td>\n",
       "      <td>2020</td>\n",
       "    </tr>\n",
       "    <tr>\n",
       "      <th>8186</th>\n",
       "      <td>270</td>\n",
       "      <td>165.0</td>\n",
       "      <td>2826.032917</td>\n",
       "      <td>2014</td>\n",
       "    </tr>\n",
       "    <tr>\n",
       "      <th>...</th>\n",
       "      <td>...</td>\n",
       "      <td>...</td>\n",
       "      <td>...</td>\n",
       "      <td>...</td>\n",
       "    </tr>\n",
       "    <tr>\n",
       "      <th>5734</th>\n",
       "      <td>210</td>\n",
       "      <td>163.0</td>\n",
       "      <td>1972.029124</td>\n",
       "      <td>2011</td>\n",
       "    </tr>\n",
       "    <tr>\n",
       "      <th>5191</th>\n",
       "      <td>160</td>\n",
       "      <td>126.0</td>\n",
       "      <td>3011.588014</td>\n",
       "      <td>2009</td>\n",
       "    </tr>\n",
       "    <tr>\n",
       "      <th>5390</th>\n",
       "      <td>290</td>\n",
       "      <td>187.0</td>\n",
       "      <td>2440.508039</td>\n",
       "      <td>2019</td>\n",
       "    </tr>\n",
       "    <tr>\n",
       "      <th>860</th>\n",
       "      <td>260</td>\n",
       "      <td>129.0</td>\n",
       "      <td>1865.404480</td>\n",
       "      <td>2019</td>\n",
       "    </tr>\n",
       "    <tr>\n",
       "      <th>7270</th>\n",
       "      <td>270</td>\n",
       "      <td>147.0</td>\n",
       "      <td>2611.939500</td>\n",
       "      <td>2017</td>\n",
       "    </tr>\n",
       "  </tbody>\n",
       "</table>\n",
       "<p>5822 rows × 4 columns</p>\n",
       "</div>"
      ],
      "text/plain": [
       "      engine_displacement  horsepower  vehicle_weight  model_year\n",
       "2155                  240       137.0     2471.172629        2010\n",
       "8916                  240       127.0     4044.606636        2000\n",
       "3274                  280         NaN     3039.297482        2011\n",
       "6307                  210       202.0     3518.701952        2020\n",
       "8186                  270       165.0     2826.032917        2014\n",
       "...                   ...         ...             ...         ...\n",
       "5734                  210       163.0     1972.029124        2011\n",
       "5191                  160       126.0     3011.588014        2009\n",
       "5390                  290       187.0     2440.508039        2019\n",
       "860                   260       129.0     1865.404480        2019\n",
       "7270                  270       147.0     2611.939500        2017\n",
       "\n",
       "[5822 rows x 4 columns]"
      ]
     },
     "execution_count": 169,
     "metadata": {},
     "output_type": "execute_result"
    }
   ],
   "source": [
    "X_train"
   ]
  },
  {
   "cell_type": "markdown",
   "id": "d405cf38",
   "metadata": {},
   "source": [
    "## Question 4\n",
    "\n",
    "* Now let's train a regularized linear regression.\n",
    "* For this question, fill the NAs with 0. \n",
    "* Try different values of `r` from this list: `[0, 0.01, 0.1, 1, 5, 10, 100]`.\n",
    "* Use RMSE to evaluate the model on the validation dataset.\n",
    "* Round the RMSE scores to 2 decimal digits.\n",
    "* Which `r` gives the best RMSE?\n",
    "\n",
    "If there are multiple options, select the smallest `r`.\n",
    "\n",
    "Options:\n",
    "\n",
    "- 0 [x]\n",
    "- 0.01\n",
    "- 1\n",
    "- 10\n",
    "- 100\n"
   ]
  },
  {
   "cell_type": "code",
   "execution_count": 170,
   "id": "a5859f81",
   "metadata": {},
   "outputs": [],
   "source": [
    "scores = {}\n",
    "\n",
    "df_train = X_train.copy()\n",
    "df_val = X_val.copy()"
   ]
  },
  {
   "cell_type": "code",
   "execution_count": 171,
   "id": "f7c01497",
   "metadata": {},
   "outputs": [
    {
     "data": {
      "text/plain": [
       "engine_displacement      0\n",
       "horsepower             417\n",
       "vehicle_weight           0\n",
       "model_year               0\n",
       "dtype: int64"
      ]
     },
     "execution_count": 171,
     "metadata": {},
     "output_type": "execute_result"
    }
   ],
   "source": [
    "X_train.isna().sum()"
   ]
  },
  {
   "cell_type": "code",
   "execution_count": 172,
   "id": "000ccdd4",
   "metadata": {},
   "outputs": [],
   "source": [
    "df_train[\"horsepower\"] = df_train[\"horsepower\"].fillna(0)\n",
    "df_val[\"horsepower\"] = df_val[\"horsepower\"].fillna(0)"
   ]
  },
  {
   "cell_type": "code",
   "execution_count": 173,
   "id": "4542000c",
   "metadata": {},
   "outputs": [
    {
     "data": {
      "text/html": [
       "<div>\n",
       "<style scoped>\n",
       "    .dataframe tbody tr th:only-of-type {\n",
       "        vertical-align: middle;\n",
       "    }\n",
       "\n",
       "    .dataframe tbody tr th {\n",
       "        vertical-align: top;\n",
       "    }\n",
       "\n",
       "    .dataframe thead th {\n",
       "        text-align: right;\n",
       "    }\n",
       "</style>\n",
       "<table border=\"1\" class=\"dataframe\">\n",
       "  <thead>\n",
       "    <tr style=\"text-align: right;\">\n",
       "      <th></th>\n",
       "      <th>engine_displacement</th>\n",
       "      <th>horsepower</th>\n",
       "      <th>vehicle_weight</th>\n",
       "      <th>model_year</th>\n",
       "    </tr>\n",
       "  </thead>\n",
       "  <tbody>\n",
       "    <tr>\n",
       "      <th>2155</th>\n",
       "      <td>240</td>\n",
       "      <td>137.0</td>\n",
       "      <td>2471.172629</td>\n",
       "      <td>2010</td>\n",
       "    </tr>\n",
       "    <tr>\n",
       "      <th>8916</th>\n",
       "      <td>240</td>\n",
       "      <td>127.0</td>\n",
       "      <td>4044.606636</td>\n",
       "      <td>2000</td>\n",
       "    </tr>\n",
       "    <tr>\n",
       "      <th>3274</th>\n",
       "      <td>280</td>\n",
       "      <td>0.0</td>\n",
       "      <td>3039.297482</td>\n",
       "      <td>2011</td>\n",
       "    </tr>\n",
       "    <tr>\n",
       "      <th>6307</th>\n",
       "      <td>210</td>\n",
       "      <td>202.0</td>\n",
       "      <td>3518.701952</td>\n",
       "      <td>2020</td>\n",
       "    </tr>\n",
       "    <tr>\n",
       "      <th>8186</th>\n",
       "      <td>270</td>\n",
       "      <td>165.0</td>\n",
       "      <td>2826.032917</td>\n",
       "      <td>2014</td>\n",
       "    </tr>\n",
       "    <tr>\n",
       "      <th>...</th>\n",
       "      <td>...</td>\n",
       "      <td>...</td>\n",
       "      <td>...</td>\n",
       "      <td>...</td>\n",
       "    </tr>\n",
       "    <tr>\n",
       "      <th>5734</th>\n",
       "      <td>210</td>\n",
       "      <td>163.0</td>\n",
       "      <td>1972.029124</td>\n",
       "      <td>2011</td>\n",
       "    </tr>\n",
       "    <tr>\n",
       "      <th>5191</th>\n",
       "      <td>160</td>\n",
       "      <td>126.0</td>\n",
       "      <td>3011.588014</td>\n",
       "      <td>2009</td>\n",
       "    </tr>\n",
       "    <tr>\n",
       "      <th>5390</th>\n",
       "      <td>290</td>\n",
       "      <td>187.0</td>\n",
       "      <td>2440.508039</td>\n",
       "      <td>2019</td>\n",
       "    </tr>\n",
       "    <tr>\n",
       "      <th>860</th>\n",
       "      <td>260</td>\n",
       "      <td>129.0</td>\n",
       "      <td>1865.404480</td>\n",
       "      <td>2019</td>\n",
       "    </tr>\n",
       "    <tr>\n",
       "      <th>7270</th>\n",
       "      <td>270</td>\n",
       "      <td>147.0</td>\n",
       "      <td>2611.939500</td>\n",
       "      <td>2017</td>\n",
       "    </tr>\n",
       "  </tbody>\n",
       "</table>\n",
       "<p>5822 rows × 4 columns</p>\n",
       "</div>"
      ],
      "text/plain": [
       "      engine_displacement  horsepower  vehicle_weight  model_year\n",
       "2155                  240       137.0     2471.172629        2010\n",
       "8916                  240       127.0     4044.606636        2000\n",
       "3274                  280         0.0     3039.297482        2011\n",
       "6307                  210       202.0     3518.701952        2020\n",
       "8186                  270       165.0     2826.032917        2014\n",
       "...                   ...         ...             ...         ...\n",
       "5734                  210       163.0     1972.029124        2011\n",
       "5191                  160       126.0     3011.588014        2009\n",
       "5390                  290       187.0     2440.508039        2019\n",
       "860                   260       129.0     1865.404480        2019\n",
       "7270                  270       147.0     2611.939500        2017\n",
       "\n",
       "[5822 rows x 4 columns]"
      ]
     },
     "execution_count": 173,
     "metadata": {},
     "output_type": "execute_result"
    }
   ],
   "source": [
    "df_train"
   ]
  },
  {
   "cell_type": "code",
   "execution_count": 174,
   "id": "4991e429",
   "metadata": {},
   "outputs": [
    {
     "name": "stdout",
     "output_type": "stream",
     "text": [
      "0 0.5172919363813778\n",
      "0.01 0.5175290257901327\n",
      "0.1 0.5208241558488765\n",
      "1 0.5258740491600055\n",
      "5 0.5268216580357542\n",
      "10 0.5269513664757761\n",
      "100 0.5270704202918354\n",
      "scores are {0: np.float64(0.5172919363813778), 0.01: np.float64(0.5175290257901327), 0.1: np.float64(0.5208241558488765), 1: np.float64(0.5258740491600055), 5: np.float64(0.5268216580357542), 10: np.float64(0.5269513664757761), 100: np.float64(0.5270704202918354)}\n",
      "min rmse is 0.5172919363813778\n"
     ]
    }
   ],
   "source": [
    "for r in [0, 0.01, 0.1, 1, 5, 10, 100]:\n",
    "    df_train_r = prepare_X(df_train)\n",
    "    w0, w = train_linear_regression_reg(df_train_r, y_train, r=r)\n",
    "\n",
    "    df_val_r = prepare_X(df_val)\n",
    "    y_pred_r = w0 + df_val_r.dot(w)\n",
    "    score = rmse(y_val, y_pred_r)\n",
    "    scores[r] = score\n",
    "    \n",
    "    print(r,score)\n",
    "\n",
    "print(\"scores are\", scores)\n",
    "print(\"min rmse is\", min(scores.values()))"
   ]
  },
  {
   "cell_type": "markdown",
   "id": "f36c02ea",
   "metadata": {},
   "source": [
    "### Question 5 \n",
    "\n",
    "* We used seed 42 for splitting the data. Let's find out how selecting the seed influences our score.\n",
    "* Try different seed values: `[0, 1, 2, 3, 4, 5, 6, 7, 8, 9]`.\n",
    "* For each seed, do the train/validation/test split with 60%/20%/20% distribution.\n",
    "* Fill the missing values with 0 and train a model without regularization.\n",
    "* For each seed, evaluate the model on the validation dataset and collect the RMSE scores. \n",
    "* What's the standard deviation of all the scores? To compute the standard deviation, use `np.std`.\n",
    "* Round the result to 3 decimal digits (`round(std, 3)`)\n",
    "\n",
    "What's the value of std?\n",
    "\n",
    "- 0.001 [x]\n",
    "- 0.006\n",
    "- 0.060\n",
    "- 0.600\n",
    "\n",
    "> Note: Standard deviation shows how different the values are.\n",
    "> If it's low, then all values are approximately the same.\n",
    "> If it's high, the values are different. \n",
    "> If standard deviation of scores is low, then our model is *stable*.\n"
   ]
  },
  {
   "cell_type": "code",
   "execution_count": null,
   "id": "298d8077",
   "metadata": {},
   "outputs": [
    {
     "name": "stdout",
     "output_type": "stream",
     "text": [
      "0 0.04894206207550204\n",
      "1 0.05154655443603532\n",
      "2 0.05119276350416155\n",
      "3 0.052132574687107094\n",
      "4 0.0485444906865947\n",
      "5 0.05086946504138524\n",
      "6 0.051092494645277514\n",
      "7 0.051214944491729864\n",
      "8 0.053248260177349155\n",
      "9 0.04998196071408925\n",
      "STD for random states is  0.0013376745263411264\n"
     ]
    }
   ],
   "source": [
    "df_5 = pd.read_csv('./car_fuel_efficiency.csv')\n",
    "columns_5 = ['engine_displacement', 'horsepower', 'vehicle_weight', 'model_year', 'fuel_efficiency_mpg']\n",
    "df_5 = df_5[columns_5]\n",
    "random_seed_scores = []\n",
    "for random_seed in [0, 1, 2, 3, 4, 5, 6, 7, 8, 9]:\n",
    "    n = len(df_5)\n",
    "\n",
    "    n_val = int(n * 0.2)\n",
    "    n_test = int(n * 0.2)\n",
    "    n_train = n - n_val - n_test\n",
    "    idx = np.arange(n)\n",
    "    np.random.seed(random_seed)\n",
    "    np.random.shuffle(idx)\n",
    "\n",
    "    X_train_seed = df_5.iloc[idx[:n_train]]\n",
    "    X_val_seed = df_5.iloc[idx[n_train:n_train+n_val]]\n",
    "    X_test_seed = df_5.iloc[idx[n_train+n_val:]]\n",
    "\n",
    "    X_train_seed = X_train_seed.reset_index(drop=True)\n",
    "    X_val_seed = X_val_seed.reset_index(drop=True)\n",
    "    X_test_seed = X_test_seed.reset_index(drop=True)\n",
    "\n",
    "    y_train_seed = X_train_seed['fuel_efficiency_mpg'].values\n",
    "    y_val_seed = X_val_seed['fuel_efficiency_mpg'].values\n",
    "    y_test_seed = X_test_seed['fuel_efficiency_mpg'].values\n",
    "\n",
    "    del X_train_seed['fuel_efficiency_mpg']\n",
    "    del X_val_seed['fuel_efficiency_mpg']\n",
    "    del X_test_seed['fuel_efficiency_mpg']\n",
    "\n",
    "    for df in X_train_seed, X_val_seed, X_test_seed:\n",
    "        df['horsepower'] = df['horsepower'].fillna(0)\n",
    "\n",
    "    df_train_seed = prepare_X(X_train_seed)\n",
    "    w0, w = train_linear_regression(df_train_seed, y_train_seed)\n",
    "\n",
    "    df_val_seed = prepare_X(X_val_seed)\n",
    "    y_pred_seed = w0 + df_val_seed.dot(w)\n",
    "    score = rmse(y_val_seed, y_pred_seed)\n",
    "    print(random_seed, score)\n",
    "    random_seed_scores.append(score)\n",
    "    \n",
    "\n",
    "print(\"STD for random states is \", np.array(random_seed_scores).std())"
   ]
  },
  {
   "cell_type": "markdown",
   "id": "47cd3a08",
   "metadata": {},
   "source": [
    "### Question 6\n",
    "\n",
    "* Split the dataset like previously, use seed 9.\n",
    "* Combine train and validation datasets.\n",
    "* Fill the missing values with 0 and train a model with `r=0.001`. \n",
    "* What's the RMSE on the test dataset?\n",
    "\n",
    "Options:\n",
    "\n",
    "- 0.15\n",
    "- 0.515 [x]\n",
    "- 5.15\n",
    "- 51.5"
   ]
  },
  {
   "cell_type": "code",
   "execution_count": null,
   "id": "c8a6af29",
   "metadata": {},
   "outputs": [
    {
     "name": "stdout",
     "output_type": "stream",
     "text": [
      "RSME is  0.5156253011746859\n"
     ]
    }
   ],
   "source": [
    "df_6 = pd.read_csv('./car_fuel_efficiency.csv')\n",
    "columns_6 = ['engine_displacement', 'horsepower', 'vehicle_weight', 'model_year', 'fuel_efficiency_mpg']\n",
    "df_6 = df_6[columns_6]\n",
    "random_seed_scores = []\n",
    "n = len(df_6)\n",
    "\n",
    "n_val = int(n * 0.2)\n",
    "n_test = int(n * 0.2)\n",
    "n_train = n - n_val - n_test\n",
    "idx = np.arange(n)\n",
    "np.random.seed(9)\n",
    "np.random.shuffle(idx)\n",
    "\n",
    "X_train_seed = df_6.iloc[idx[:n_train]]\n",
    "X_val_seed = df_6.iloc[idx[n_train:n_train+n_val]]\n",
    "X_test_seed = df_6.iloc[idx[n_train+n_val:]]\n",
    "\n",
    "X_train_seed = X_train_seed.reset_index(drop=True)\n",
    "X_val_seed = X_val_seed.reset_index(drop=True)\n",
    "X_test_seed = X_test_seed.reset_index(drop=True)\n",
    "\n",
    "y_train_seed = X_train_seed['fuel_efficiency_mpg'].values\n",
    "y_val_seed = X_val_seed['fuel_efficiency_mpg'].values\n",
    "y_test_seed = X_test_seed['fuel_efficiency_mpg'].values\n",
    "\n",
    "del X_train_seed['fuel_efficiency_mpg']\n",
    "del X_val_seed['fuel_efficiency_mpg']\n",
    "del X_test_seed['fuel_efficiency_mpg']\n",
    "\n",
    "for df in X_train_seed, X_val_seed, X_test_seed:\n",
    "    df['horsepower'] = df['horsepower'].fillna(0)\n",
    "\n",
    "X_full = pd.concat([X_train_seed, X_val_seed])\n",
    "X_full = X_full.reset_index(drop=True)\n",
    "y_full = np.concatenate([y_train_seed, y_val_seed])\n",
    "\n",
    "X_full_train = prepare_X(X_full)\n",
    "w0, w = train_linear_regression_reg(X_full_train, y_full, 0.001)\n",
    "\n",
    "df_test_seed = prepare_X(X_test_seed)\n",
    "y_pred_seed = w0 + df_test_seed.dot(w)\n",
    "score = rmse(y_test_seed, y_pred_seed)\n",
    "    \n",
    "print(\"RSME is \", score)"
   ]
  }
 ],
 "metadata": {
  "kernelspec": {
   "display_name": "DataTalks Club",
   "language": "python",
   "name": "datatalks-club"
  },
  "language_info": {
   "codemirror_mode": {
    "name": "ipython",
    "version": 3
   },
   "file_extension": ".py",
   "mimetype": "text/x-python",
   "name": "python",
   "nbconvert_exporter": "python",
   "pygments_lexer": "ipython3",
   "version": "3.12.6"
  }
 },
 "nbformat": 4,
 "nbformat_minor": 5
}
